{
  "nbformat": 4,
  "nbformat_minor": 0,
  "metadata": {
    "colab": {
      "provenance": [],
      "authorship_tag": "ABX9TyMsul++sosDpCUqvsMEtSAF",
      "include_colab_link": true
    },
    "kernelspec": {
      "name": "python3",
      "display_name": "Python 3"
    },
    "language_info": {
      "name": "python"
    }
  },
  "cells": [
    {
      "cell_type": "markdown",
      "metadata": {
        "id": "view-in-github",
        "colab_type": "text"
      },
      "source": [
        "<a href=\"https://colab.research.google.com/github/nephelim74/machinelearn/blob/main/ml_dz9.ipynb\" target=\"_parent\"><img src=\"https://colab.research.google.com/assets/colab-badge.svg\" alt=\"Open In Colab\"/></a>"
      ]
    },
    {
      "cell_type": "markdown",
      "source": [
        "1. Импорт необходимых библиотек"
      ],
      "metadata": {
        "id": "8OwDBuT6m7-Y"
      }
    },
    {
      "cell_type": "code",
      "execution_count": 20,
      "metadata": {
        "id": "PID_C3cpmm9q"
      },
      "outputs": [],
      "source": [
        "import numpy as np\n",
        "import pandas as pd\n",
        "from sklearn.datasets import load_iris\n",
        "from sklearn.datasets import load_wine\n",
        "from sklearn.datasets import load_digits\n",
        "from sklearn.model_selection import train_test_split\n",
        "from sklearn.preprocessing import StandardScaler\n",
        "from sklearn.metrics import accuracy_score, precision_score, recall_score, f1_score\n",
        "from sklearn.ensemble import RandomForestClassifier as SklearnRandomForestClassifier"
      ]
    },
    {
      "cell_type": "markdown",
      "source": [
        "2. Загрузка набора данных\n",
        "* Для примера используем набор данных Iris."
      ],
      "metadata": {
        "id": "p-qOrkBem-gl"
      }
    },
    {
      "cell_type": "code",
      "source": [
        "data = load_digits()\n",
        "X = data.data  # Признаки\n",
        "y = data.target  # Целевая переменная\n",
        "\n",
        "# Преобразуем в DataFrame для удобства\n",
        "df = pd.DataFrame(X, columns=data.feature_names)\n",
        "df['target'] = y"
      ],
      "metadata": {
        "id": "aebEPANbnNuu"
      },
      "execution_count": 21,
      "outputs": []
    },
    {
      "cell_type": "markdown",
      "source": [
        "3. Предварительная обработка данных\n",
        "* Масштабируем признаки и разделим данные на обучающую и тестовую выборки."
      ],
      "metadata": {
        "id": "UcffQ4ZHncch"
      }
    },
    {
      "cell_type": "code",
      "source": [
        "# Масштабирование признаков\n",
        "scaler = StandardScaler()\n",
        "X_scaled = scaler.fit_transform(X)\n",
        "\n",
        "# Разделение данных на обучающую и тестовую выборки\n",
        "X_train, X_test, y_train, y_test = train_test_split(X_scaled, y, test_size=0.3, random_state=42)"
      ],
      "metadata": {
        "id": "NT8kUyY3nih0"
      },
      "execution_count": 22,
      "outputs": []
    },
    {
      "cell_type": "markdown",
      "source": [
        "4. Реализация алгоритма случайного леса\n",
        "* Реализуем базовый случайный лес с использованием деревьев решений."
      ],
      "metadata": {
        "id": "Recq7rzPnv-w"
      }
    },
    {
      "cell_type": "code",
      "source": [
        "from sklearn.tree import DecisionTreeClassifier\n",
        "\n",
        "class RandomForestClassifier:\n",
        "  #  Инициализация класса (__init__)\n",
        "    def __init__(self, n_estimators=100, max_features='sqrt', random_state=None):\n",
        "        self.n_estimators = n_estimators\n",
        "        self.max_features = max_features\n",
        "        self.random_state = random_state\n",
        "        self.trees = []\n",
        "        '''\n",
        "        n_estimators=100: Количество деревьев в лесу. По умолчанию создается 100 деревьев.\n",
        "        max_features='sqrt': Количество признаков, которые случайно выбираются для каждого дерева.'\n",
        "        По умолчанию используется квадратный корень из общего числа признаков (sqrt).\n",
        "        random_state=None: Зерно для генератора случайных чисел, чтобы обеспечить воспроизводимость результатов.\n",
        "        self.trees = []: Список для хранения обученных деревьев и их параметров.\n",
        "        '''\n",
        "    # Метод fit (обучение модели)\n",
        "    def fit(self, X, y):\n",
        "        np.random.seed(self.random_state)\n",
        "        n_samples, n_features = X.shape\n",
        "        self.feature_indices = []  # Для хранения индексов выбранных признаков\n",
        "        '''\n",
        "        np.random.seed(self.random_state): Устанавливает seed для генератора случайных чисел, чтобы результаты были воспроизводимыми.\n",
        "        n_samples, n_features = X.shape: Определяет количество строк (образцов) и столбцов (признаков) в данных.\n",
        "        self.feature_indices = []: Список для хранения индексов признаков, выбранных для каждого дерева.\n",
        "        '''\n",
        "        # Цикл для создания и обучения деревьев:\n",
        "        for _ in range(self.n_estimators):\n",
        "            # Выбор случайных признаков\n",
        "            if self.max_features == 'sqrt':\n",
        "                n_selected_features = int(np.sqrt(n_features))\n",
        "            else:\n",
        "                n_selected_features = self.max_features\n",
        "            feature_indices = np.random.choice(n_features, n_selected_features, replace=False)\n",
        "            self.feature_indices.append(feature_indices)\n",
        "            '''\n",
        "            for _ in range(self.n_estimators):: Цикл, который создает и обучает n_estimators деревьев.\n",
        "            if self.max_features == 'sqrt':: Если max_features равно 'sqrt', то количество случайно выбираемых признаков равно квадратному корню из общего числа признаков.\n",
        "            n_selected_features = int(np.sqrt(n_features)): Вычисляет количество признаков для выбора.\n",
        "            feature_indices = np.random.choice(n_features, n_selected_features, replace=False): Случайно выбирает индексы признаков без повторений.\n",
        "            self.feature_indices.append(feature_indices): Сохраняет выбранные индексы признаков для текущего дерева.\n",
        "            '''\n",
        "            # Выбор случайных samples с повторением (bootstrap)\n",
        "            sample_indices = np.random.choice(n_samples, n_samples, replace=True)\n",
        "            X_subset = X[sample_indices][:, feature_indices]\n",
        "            y_subset = y[sample_indices]\n",
        "            '''\n",
        "            sample_indices = np.random.choice(n_samples, n_samples, replace=True): Случайно выбирает индексы строк (образцов) с повторением (bootstrap sampling).\n",
        "            X_subset = X[sample_indices][:, feature_indices]: Создает подмножество данных для обучения текущего дерева, используя выбранные строки и признаки.\n",
        "            y_subset = y[sample_indices]: Создает подмножество целевых значений для выбранных строк.\n",
        "            '''\n",
        "            # Обучение дерева\n",
        "            tree = DecisionTreeClassifier(random_state=self.random_state)\n",
        "            tree.fit(X_subset, y_subset)\n",
        "            self.trees.append((tree, feature_indices))\n",
        "            '''\n",
        "            tree = DecisionTreeClassifier(random_state=self.random_state): Создает объект дерева решений.\n",
        "            tree.fit(X_subset, y_subset): Обучает дерево на подмножестве данных.\n",
        "            self.trees.append((tree, feature_indices)): Сохраняет обученное дерево и индексы признаков, использованных для его обучения.\n",
        "            '''\n",
        "    #  Метод predict (предсказание)\n",
        "    def predict(self, X):\n",
        "        predictions = np.zeros((X.shape[0], len(self.trees)))\n",
        "        # Создает массив для хранения предсказаний каждого дерева. Размер массива: (количество образцов) x (количество деревьев).\n",
        "        # Предсказание для каждого дерева:\n",
        "        for i, (tree, feature_indices) in enumerate(self.trees):\n",
        "            X_subset = X[:, feature_indices]\n",
        "            predictions[:, i] = tree.predict(X_subset)\n",
        "            '''\n",
        "            for i, (tree, feature_indices) in enumerate(self.trees):: Проходит по всем обученным деревьям.\n",
        "            X_subset = X[:, feature_indices]: Выбирает признаки, которые использовались для обучения текущего дерева.\n",
        "            predictions[:, i] = tree.predict(X_subset): Сохраняет предсказания текущего дерева в массив.\n",
        "            '''\n",
        "\n",
        "        # Голосование большинством\n",
        "        return np.array([np.bincount(predictions[i].astype(int)).argmax() for i in range(X.shape[0])])\n",
        "        '''\n",
        "        np.bincount(predictions[i].astype(int)): Подсчитывает количество голосов для каждого класса для каждого образца.\n",
        "        .argmax(): Выбирает класс с наибольшим количеством голосов.\n",
        "        return np.array([...]): Возвращает итоговые предсказания для всех образцов.\n",
        "        '''"
      ],
      "metadata": {
        "id": "_5fLhpXRoOwn"
      },
      "execution_count": 23,
      "outputs": []
    },
    {
      "cell_type": "markdown",
      "source": [
        "5. Обучение модели\n",
        "* Обучим нашу реализацию случайного леса.\n"
      ],
      "metadata": {
        "id": "bjh4pZwSt2IT"
      }
    },
    {
      "cell_type": "code",
      "source": [
        "# Создание и обучение модели\n",
        "rf_custom = RandomForestClassifier(n_estimators=100, max_features='sqrt', random_state=42)\n",
        "rf_custom.fit(X_train, y_train)"
      ],
      "metadata": {
        "id": "X_-PLNbpt2z_"
      },
      "execution_count": 24,
      "outputs": []
    },
    {
      "cell_type": "markdown",
      "source": [
        "6. Оценка производительности модели\n",
        "* Оценим качество модели на тестовой выборке."
      ],
      "metadata": {
        "id": "EDWe03MkuDb0"
      }
    },
    {
      "cell_type": "code",
      "source": [
        "# Предсказание на тестовой выборке\n",
        "y_pred_custom = rf_custom.predict(X_test)\n",
        "\n",
        "# Метрики качества\n",
        "accuracy = accuracy_score(y_test, y_pred_custom)\n",
        "precision = precision_score(y_test, y_pred_custom, average='weighted')\n",
        "recall = recall_score(y_test, y_pred_custom, average='weighted')\n",
        "f1 = f1_score(y_test, y_pred_custom, average='weighted')\n",
        "\n",
        "print(f\"Custom Random Forest Metrics:\")\n",
        "print(f\"Accuracy: {accuracy:.4f}\")\n",
        "print(f\"Precision: {precision:.4f}\")\n",
        "print(f\"Recall: {recall:.4f}\")\n",
        "print(f\"F1 Score: {f1:.4f}\")"
      ],
      "metadata": {
        "colab": {
          "base_uri": "https://localhost:8080/"
        },
        "id": "P4dnSyeKuNIT",
        "outputId": "5aef2fa8-0c9b-4f45-d84f-72da34757e2c"
      },
      "execution_count": 25,
      "outputs": [
        {
          "output_type": "stream",
          "name": "stdout",
          "text": [
            "Custom Random Forest Metrics:\n",
            "Accuracy: 0.9537\n",
            "Precision: 0.9537\n",
            "Recall: 0.9537\n",
            "F1 Score: 0.9534\n"
          ]
        }
      ]
    },
    {
      "cell_type": "markdown",
      "source": [
        "\n",
        "7. Сравнение с реализацией из scikit-learn\n",
        "* Теперь обучим стандартный RandomForestClassifier из scikit-learn и сравним результаты."
      ],
      "metadata": {
        "id": "bFPQuGquu32-"
      }
    },
    {
      "cell_type": "code",
      "source": [
        "# Обучение модели из scikit-learn\n",
        "rf_sklearn = SklearnRandomForestClassifier(n_estimators=100, max_features='sqrt', random_state=42)\n",
        "rf_sklearn.fit(X_train, y_train)\n",
        "\n",
        "# Предсказание на тестовой выборке\n",
        "y_pred_sklearn = rf_sklearn.predict(X_test)\n",
        "\n",
        "# Метрики качества\n",
        "accuracy_sklearn = accuracy_score(y_test, y_pred_sklearn)\n",
        "precision_sklearn = precision_score(y_test, y_pred_sklearn, average='weighted')\n",
        "recall_sklearn = recall_score(y_test, y_pred_sklearn, average='weighted')\n",
        "f1_sklearn = f1_score(y_test, y_pred_sklearn, average='weighted')\n",
        "\n",
        "print(f\"\\nScikit-learn Random Forest Metrics:\")\n",
        "print(f\"Accuracy: {accuracy_sklearn:.4f}\")\n",
        "print(f\"Precision: {precision_sklearn:.4f}\")\n",
        "print(f\"Recall: {recall_sklearn:.4f}\")\n",
        "print(f\"F1 Score: {f1_sklearn:.4f}\")"
      ],
      "metadata": {
        "colab": {
          "base_uri": "https://localhost:8080/"
        },
        "id": "a7x2gN-fus5k",
        "outputId": "4766b906-b044-4e72-b53f-e382271e411a"
      },
      "execution_count": 26,
      "outputs": [
        {
          "output_type": "stream",
          "name": "stdout",
          "text": [
            "\n",
            "Scikit-learn Random Forest Metrics:\n",
            "Accuracy: 0.9741\n",
            "Precision: 0.9741\n",
            "Recall: 0.9741\n",
            "F1 Score: 0.9740\n"
          ]
        }
      ]
    },
    {
      "cell_type": "markdown",
      "source": [
        "### Выводы:\n",
        "Датасеты Iris, слишком простые и дают резульаты равные 1.\n",
        "Поэтому используем более сложный digits.\n",
        "Результаты практиески близкие к Scikit-learn\n",
        "\n"
      ],
      "metadata": {
        "id": "t-87goNww3sQ"
      }
    }
  ]
}