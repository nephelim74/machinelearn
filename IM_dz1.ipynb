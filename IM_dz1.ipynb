{
  "nbformat": 4,
  "nbformat_minor": 0,
  "metadata": {
    "colab": {
      "provenance": [],
      "authorship_tag": "ABX9TyMLsLXVsKkohg3sSRXU4tgo",
      "include_colab_link": true
    },
    "kernelspec": {
      "name": "python3",
      "display_name": "Python 3"
    },
    "language_info": {
      "name": "python"
    }
  },
  "cells": [
    {
      "cell_type": "markdown",
      "metadata": {
        "id": "view-in-github",
        "colab_type": "text"
      },
      "source": [
        "<a href=\"https://colab.research.google.com/github/nephelim74/machinelearn/blob/main/IM_dz1.ipynb\" target=\"_parent\"><img src=\"https://colab.research.google.com/assets/colab-badge.svg\" alt=\"Open In Colab\"/></a>"
      ]
    },
    {
      "cell_type": "code",
      "execution_count": 1,
      "metadata": {
        "id": "7jboxU9s2Cma"
      },
      "outputs": [],
      "source": [
        "import numpy as np\n",
        "\n",
        "actual_values = np.array([100, 150, 200, 250])  # Фактические значения\n",
        "predicted_values = np.array([90, 140, 180, 270])  # Предсказанные значения"
      ]
    },
    {
      "cell_type": "markdown",
      "source": [
        "1. Среднеквадратичная ошибка (MSE)"
      ],
      "metadata": {
        "id": "ceg5bw8E2Tqb"
      }
    },
    {
      "cell_type": "code",
      "source": [
        "# Вычисление квадратов разниц\n",
        "squared_errors = (actual_values - predicted_values) ** 2\n",
        "\n",
        "# Вычисление MSE\n",
        "mse = np.mean(squared_errors)\n",
        "\n",
        "print(\"Квадраты разниц:\", squared_errors)\n",
        "print(\"Среднеквадратичная ошибка (MSE):\", mse)"
      ],
      "metadata": {
        "colab": {
          "base_uri": "https://localhost:8080/"
        },
        "id": "u5FuecNc2X_P",
        "outputId": "fbf9bacf-61ec-4c29-9d62-d104380e2b40"
      },
      "execution_count": 2,
      "outputs": [
        {
          "output_type": "stream",
          "name": "stdout",
          "text": [
            "Квадраты разниц: [100 100 400 400]\n",
            "Среднеквадратичная ошибка (MSE): 250.0\n"
          ]
        }
      ]
    },
    {
      "cell_type": "markdown",
      "source": [
        "2. Средняя абсолютная ошибка (MAE)"
      ],
      "metadata": {
        "id": "ruUxiHgJ2su7"
      }
    },
    {
      "cell_type": "code",
      "source": [
        "# Вычисление абсолютных разниц\n",
        "absolute_errors = np.abs(actual_values - predicted_values)\n",
        "\n",
        "# Вычисление MAE\n",
        "mae = np.mean(absolute_errors)\n",
        "\n",
        "print(\"Абсолютные разницы:\", absolute_errors)\n",
        "print(\"Средняя абсолютная ошибка (MAE):\", mae)"
      ],
      "metadata": {
        "colab": {
          "base_uri": "https://localhost:8080/"
        },
        "id": "xn81l32Y2tyL",
        "outputId": "1f26cbed-dd54-4981-8dc5-21b487650f63"
      },
      "execution_count": 3,
      "outputs": [
        {
          "output_type": "stream",
          "name": "stdout",
          "text": [
            "Абсолютные разницы: [10 10 20 20]\n",
            "Средняя абсолютная ошибка (MAE): 15.0\n"
          ]
        }
      ]
    },
    {
      "cell_type": "markdown",
      "source": [
        "Анализ результатов:\n",
        "MSE (250.0):\n",
        "\n",
        "MSE сильнее штрафует за большие ошибки, так как использует квадраты разниц.\n",
        "\n",
        "В данном случае ошибки (10, 10, 20, 20) были возведены в квадрат, что привело к увеличению вклада больших ошибок (20 → 400).\n",
        "\n",
        "MAE (15.0):\n",
        "\n",
        "MAE менее чувствительна к выбросам, так как использует абсолютные значения разниц.\n",
        "\n",
        "В данном случае ошибки (10, 10, 20, 20) были усреднены без возведения в квадрат.\n",
        "\n",
        "Интерпретация:\n",
        "\n",
        "Чем меньше значение MSE или MAE, тем лучше точность модели.\n",
        "\n",
        "В данном случае:\n",
        "\n",
        "MSE = 250.0 указывает на то, что модель допускает значительные ошибки, особенно в случаях, где разница между фактическими и предсказанными значениями велика.\n",
        "\n",
        "MAE = 15.0 показывает, что в среднем модель ошибается на 15 единиц."
      ],
      "metadata": {
        "id": "bxebaTIy3j3p"
      }
    },
    {
      "cell_type": "markdown",
      "source": [
        "Сравнение MSE и MAE:\n",
        "MSE:\n",
        "\n",
        "Подходит для случаев, когда большие ошибки критичны и должны быть минимизированы.\n",
        "\n",
        "Чувствительна к выбросам.\n",
        "\n",
        "MAE:\n",
        "\n",
        "Подходит для случаев, когда все ошибки имеют одинаковый вес.\n",
        "\n",
        "Менее чувствительна к выбросам."
      ],
      "metadata": {
        "id": "6TE7IPFw3l_g"
      }
    },
    {
      "cell_type": "markdown",
      "source": [
        "Итог:\n",
        "MSE = 250.0\n",
        "\n",
        "MAE = 15.0\n",
        "\n",
        "Лучшая точность предсказания достигается при меньших значениях MSE и MAE. В данном случае модель имеет среднюю точность, но есть возможность улучшить её, уменьшив ошибки, особенно в случаях с большими отклонениями (например, для последнего значения, где ошибка составила 20 единиц).\n",
        "\n"
      ],
      "metadata": {
        "id": "2m6x-T834GFS"
      }
    }
  ]
}