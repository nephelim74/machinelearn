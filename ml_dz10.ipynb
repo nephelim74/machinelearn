{
  "nbformat": 4,
  "nbformat_minor": 0,
  "metadata": {
    "colab": {
      "provenance": [],
      "authorship_tag": "ABX9TyNBnhe9RJBm+xTblj8M/C5s",
      "include_colab_link": true
    },
    "kernelspec": {
      "name": "python3",
      "display_name": "Python 3"
    },
    "language_info": {
      "name": "python"
    }
  },
  "cells": [
    {
      "cell_type": "markdown",
      "metadata": {
        "id": "view-in-github",
        "colab_type": "text"
      },
      "source": [
        "<a href=\"https://colab.research.google.com/github/nephelim74/machinelearn/blob/main/ml_dz10.ipynb\" target=\"_parent\"><img src=\"https://colab.research.google.com/assets/colab-badge.svg\" alt=\"Open In Colab\"/></a>"
      ]
    },
    {
      "cell_type": "markdown",
      "source": [
        "Шаг 1: Загрузка данных\n",
        "Импортируем данные с помощью библиотеки pandas.\n",
        "возьмём набор данных, например, \"Wine Quality\" (качество вина) из репозитория UCI Machine Learning. Этот набор данных содержит информацию о химических свойствах вин и их качестве (оценка от 0 до 10). Мы будем решать задачу регрессии, чтобы предсказать качество вина на основе его характеристик.\n"
      ],
      "metadata": {
        "id": "FxA9anJc8iFO"
      }
    },
    {
      "cell_type": "code",
      "execution_count": 28,
      "metadata": {
        "colab": {
          "base_uri": "https://localhost:8080/"
        },
        "id": "En_d96Q18Uk1",
        "outputId": "50841f15-74d5-4b9a-fc61-dcc2b159c33c"
      },
      "outputs": [
        {
          "output_type": "stream",
          "name": "stdout",
          "text": [
            "   fixed acidity  volatile acidity  citric acid  residual sugar  chlorides  \\\n",
            "0            7.4              0.70         0.00             1.9      0.076   \n",
            "1            7.8              0.88         0.00             2.6      0.098   \n",
            "2            7.8              0.76         0.04             2.3      0.092   \n",
            "3           11.2              0.28         0.56             1.9      0.075   \n",
            "4            7.4              0.70         0.00             1.9      0.076   \n",
            "\n",
            "   free sulfur dioxide  total sulfur dioxide  density    pH  sulphates  \\\n",
            "0                 11.0                  34.0   0.9978  3.51       0.56   \n",
            "1                 25.0                  67.0   0.9968  3.20       0.68   \n",
            "2                 15.0                  54.0   0.9970  3.26       0.65   \n",
            "3                 17.0                  60.0   0.9980  3.16       0.58   \n",
            "4                 11.0                  34.0   0.9978  3.51       0.56   \n",
            "\n",
            "   alcohol  quality  \n",
            "0      9.4        5  \n",
            "1      9.8        5  \n",
            "2      9.8        5  \n",
            "3      9.8        6  \n",
            "4      9.4        5  \n",
            "<class 'pandas.core.frame.DataFrame'>\n",
            "RangeIndex: 1599 entries, 0 to 1598\n",
            "Data columns (total 12 columns):\n",
            " #   Column                Non-Null Count  Dtype  \n",
            "---  ------                --------------  -----  \n",
            " 0   fixed acidity         1599 non-null   float64\n",
            " 1   volatile acidity      1599 non-null   float64\n",
            " 2   citric acid           1599 non-null   float64\n",
            " 3   residual sugar        1599 non-null   float64\n",
            " 4   chlorides             1599 non-null   float64\n",
            " 5   free sulfur dioxide   1599 non-null   float64\n",
            " 6   total sulfur dioxide  1599 non-null   float64\n",
            " 7   density               1599 non-null   float64\n",
            " 8   pH                    1599 non-null   float64\n",
            " 9   sulphates             1599 non-null   float64\n",
            " 10  alcohol               1599 non-null   float64\n",
            " 11  quality               1599 non-null   int64  \n",
            "dtypes: float64(11), int64(1)\n",
            "memory usage: 150.0 KB\n",
            "None\n"
          ]
        }
      ],
      "source": [
        "import pandas as pd\n",
        "\n",
        "# Загрузка данных\n",
        "url = \"https://archive.ics.uci.edu/ml/machine-learning-databases/wine-quality/winequality-red.csv\"\n",
        "data = pd.read_csv(url, delimiter=';')\n",
        "\n",
        "# Посмотрим на данные\n",
        "print(data.head())\n",
        "print(data.info())"
      ]
    },
    {
      "cell_type": "markdown",
      "source": [
        "Шаг 2: Подготовка данных\n",
        "Разделим данные на признаки (X) и целевую переменную (y). Также разделим данные на обучающую и тестовую выборки."
      ],
      "metadata": {
        "id": "b_iTXSHq8wQU"
      }
    },
    {
      "cell_type": "code",
      "source": [
        "from sklearn.model_selection import train_test_split\n",
        "\n",
        "# Признаки и целевая переменная\n",
        "X = data.drop('quality', axis=1)  # Все колонки, кроме 'quality'\n",
        "y = data['quality']  # Целевая переменная 'quality'\n",
        "\n",
        "# Разделение данных на обучающую и тестовую выборки\n",
        "X_train, X_test, y_train, y_test = train_test_split(X, y, test_size=0.3, random_state=42)"
      ],
      "metadata": {
        "id": "afrS7zIS80WJ"
      },
      "execution_count": 17,
      "outputs": []
    },
    {
      "cell_type": "markdown",
      "source": [
        "Шаг 3: Создание модели\n",
        "Для задачи регрессии используем модель Gradient Boosting Regressor (градиентный бустинг)."
      ],
      "metadata": {
        "id": "uE1i_rKh9L-Y"
      }
    },
    {
      "cell_type": "code",
      "source": [
        "from sklearn.ensemble import GradientBoostingRegressor\n",
        "\n",
        "# Создание модели\n",
        "model = GradientBoostingRegressor(random_state=42)"
      ],
      "metadata": {
        "id": "GIp8Oxmc9UI_"
      },
      "execution_count": 18,
      "outputs": []
    },
    {
      "cell_type": "markdown",
      "source": [
        "Шаг 4: Кросс-валидация\n",
        "Используем метод cross_val_score для оценки производительности модели на обучающей выборке. В качестве метрики используем среднеквадратичную ошибку (MSE)."
      ],
      "metadata": {
        "id": "ATVuxLfk9pZb"
      }
    },
    {
      "cell_type": "code",
      "source": [
        "from sklearn.model_selection import cross_val_score\n",
        "from sklearn.metrics import make_scorer, mean_squared_error\n",
        "\n",
        "# Кросс-валидация с 5 фолдами\n",
        "mse_scorer = make_scorer(mean_squared_error, greater_is_better=False)\n",
        "cv_scores = cross_val_score(model, X_train, y_train, cv=5, scoring=mse_scorer)\n",
        "\n",
        "# Вывод результатов кросс-валидации\n",
        "print(\"Результаты кросс-валидации (MSE):\", -cv_scores)\n",
        "print(\"Средняя MSE:\", -cv_scores.mean())"
      ],
      "metadata": {
        "colab": {
          "base_uri": "https://localhost:8080/"
        },
        "id": "EJuSzNCk965R",
        "outputId": "070a4dd4-3541-4916-b3fc-e11d6f9d27dd"
      },
      "execution_count": 19,
      "outputs": [
        {
          "output_type": "stream",
          "name": "stdout",
          "text": [
            "Результаты кросс-валидации (MSE): [0.46136001 0.40342771 0.40636128 0.43776887 0.31322647]\n",
            "Средняя MSE: 0.40442886803667355\n"
          ]
        }
      ]
    },
    {
      "cell_type": "markdown",
      "source": [
        "Средняя MSE: 0.404. Это хороший результат, но его можно улучшить, подобрав гиперпараметры."
      ],
      "metadata": {
        "id": "GX5QHAIRSSoz"
      }
    },
    {
      "cell_type": "markdown",
      "source": [
        "Шаг 5: Подбор гиперпараметров с помощью GridSearchCV\n",
        "Используем GridSearchCV для поиска оптимальных гиперпараметров."
      ],
      "metadata": {
        "id": "Ebwrqh9t-dBV"
      }
    },
    {
      "cell_type": "code",
      "source": [
        "from sklearn.model_selection import GridSearchCV\n",
        "\n",
        "# Определение сетки гиперпараметров\n",
        "param_grid = {\n",
        "    'n_estimators': [100, 200, 300],  # Количество деревьев\n",
        "    'learning_rate': [0.01, 0.1, 0.2],  # Скорость обучения\n",
        "    'max_depth': [3, 5, 7]  # Максимальная глубина дерева\n",
        "}\n",
        "\n",
        "# Создание GridSearchCV\n",
        "grid_search = GridSearchCV(estimator=model, param_grid=param_grid, cv=5, scoring=mse_scorer)\n",
        "\n",
        "# Поиск лучших гиперпараметров\n",
        "grid_search.fit(X_train, y_train)\n",
        "\n",
        "# Вывод лучших параметров\n",
        "print(\"Лучшие параметры:\", grid_search.best_params_)"
      ],
      "metadata": {
        "colab": {
          "base_uri": "https://localhost:8080/"
        },
        "id": "pzPAlA4Q-fNr",
        "outputId": "06c6d9ff-47ae-4a01-d27b-d1fdb6e840e6"
      },
      "execution_count": 20,
      "outputs": [
        {
          "output_type": "stream",
          "name": "stdout",
          "text": [
            "Лучшие параметры: {'learning_rate': 0.01, 'max_depth': 7, 'n_estimators': 300}\n"
          ]
        }
      ]
    },
    {
      "cell_type": "markdown",
      "source": [
        "Шаг 6: Обучение модели с оптимальными гиперпараметрами\n",
        "Обучим модель с лучшими параметрами и оценим её производительность на тестовой выборке."
      ],
      "metadata": {
        "id": "Tc93W4itQGbR"
      }
    },
    {
      "cell_type": "code",
      "source": [
        "# Лучшая модель\n",
        "best_model = grid_search.best_estimator_\n",
        "\n",
        "# Оценка на тестовой выборке\n",
        "y_pred = best_model.predict(X_test)\n",
        "test_mse = mean_squared_error(y_test, y_pred)\n",
        "print(\"MSE на тестовой выборке:\", test_mse)"
      ],
      "metadata": {
        "colab": {
          "base_uri": "https://localhost:8080/"
        },
        "id": "CoEEB_PKQH9a",
        "outputId": "b2dbc1b5-afa4-4606-d759-100ade410896"
      },
      "execution_count": 21,
      "outputs": [
        {
          "output_type": "stream",
          "name": "stdout",
          "text": [
            "MSE на тестовой выборке: 0.3598940844517581\n"
          ]
        }
      ]
    },
    {
      "cell_type": "markdown",
      "source": [
        "## Выводы\n",
        "Подбор гиперпараметров:\n",
        "\n",
        "Использование GridSearchCV позволило найти оптимальные параметры, которые значительно улучшили качество модели.\n",
        "\n",
        "Модель стала более точной и устойчивой.\n",
        "\n",
        "Качество модели:\n",
        "\n",
        "MSE на тестовой выборке (0.3599) близка к средней MSE на кросс-валидации (0.404), что говорит о хорошей обобщающей способности модели.\n",
        "\n",
        "Модель не переобучилась, так как ошибка на тестовой выборке не увеличилась."
      ],
      "metadata": {
        "id": "xJo4l4Q5Slmp"
      }
    },
    {
      "cell_type": "markdown",
      "source": [],
      "metadata": {
        "id": "Zt5qzrk3Z9f_"
      }
    }
  ]
}